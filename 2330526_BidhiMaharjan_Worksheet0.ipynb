{
  "nbformat": 4,
  "nbformat_minor": 0,
  "metadata": {
    "colab": {
      "provenance": []
    },
    "kernelspec": {
      "name": "python3",
      "display_name": "Python 3"
    },
    "language_info": {
      "name": "python"
    }
  },
  "cells": [
    {
      "cell_type": "markdown",
      "source": [
        "# Worksheet 1\n",
        "## Exercise on Functions:"
      ],
      "metadata": {
        "id": "psMkYjPE1geq"
      }
    },
    {
      "cell_type": "markdown",
      "source": [
        "**Task - 1:**\n",
        "\n",
        "Create a Python program that converts between different units of measurement.\n",
        "*   The program should:\n",
        "1. Prompt the user to choose the type of conversion (e.g., length, weight, volume).\n",
        "2. Ask the user to input the value to be converted.\n",
        "3. Perform the conversion and display the result.\n",
        "4. Handle potential errors, such as invalid input or unsupported conversion types.\n",
        "*   Requirements:\n",
        "1. Functions: Define at least one function to perform the conversion.\n",
        "2. Error Handling: Use try-except blocks to handle invalid input (e.g., non-numeric values).\n",
        "3. User Input: Prompt the user to select the conversion type and input the value.\n",
        "4. Docstrings: Include a docstring in your function to describe its purpose, parameters, and return value.\n",
        "*   Conversion Options:\n",
        "1. Length:\n",
        "- Convert meters (m) to feet (ft).\n",
        "- Convert feet (ft) to meters (m).\n",
        "2. Weight:\n",
        "- Convert kilograms (kg) to pounds (lbs).\n",
        "- Convert pounds (lbs) to kilograms (kg).\n",
        "3. Volume:\n",
        "- Convert liters (L) to gallons (gal).\n",
        "- Convert gallons (gal) to liters (L).\n"
      ],
      "metadata": {
        "id": "zMLo3xNM2pen"
      }
    },
    {
      "cell_type": "code",
      "source": [
        "def convert_length(value, from_unit, to_unit):\n",
        "  \"\"\"\n",
        "  Purpose: To convert length from meters(m) to feet(ft) and vice versa\n",
        "\n",
        "  Parameters:\n",
        "  value (float): Value to convert\n",
        "  from_unit (str): Unit to convert from ('m' or 'ft')\n",
        "  to_unit (str): Unit to convert to ('m' or 'ft')\n",
        "\n",
        "  Return value:\n",
        "  float: converted value\n",
        "  \"\"\"\n",
        "  units = {'m', 'ft'}\n",
        "  if from_unit not in units or to_unit not in units:\n",
        "    raise ValueError(\"Invalid units for length conversion. Use 'm' or 'ft'.\")\n",
        "\n",
        "  if from_unit == 'm' and to_unit == 'ft':\n",
        "    return value * 3.28084  # 1 m = 3.28084 ft\n",
        "  elif from_unit == 'ft' and to_unit == 'm':\n",
        "    return value / 3.28084  # 1 ft = 1/3.28084 m\n",
        "  else:\n",
        "    raise ValueError(\"Invalid units for length conversion\")\n",
        "\n",
        "def convert_weight(value, from_unit, to_unit):\n",
        "  \"\"\"\n",
        "  Purpose: To convert weight from kilograms(kg) to pounds(lbs) and vice versa\n",
        "\n",
        "  Parameters:\n",
        "  value (float): Value to convert\n",
        "  from_unit (str): Unit to convert from ('kg' or 'lbs')\n",
        "  to_unit (str): Unit to convert to ('kg' or 'lbs')\n",
        "\n",
        "  Return value:\n",
        "  float: converted value\n",
        "  \"\"\"\n",
        "  units = {'kg', 'lbs'}\n",
        "  if from_unit not in units or to_unit not in units:\n",
        "    raise ValueError(\"Invalid units for weight conversion. Use 'kg' or 'lbs'.\")\n",
        "\n",
        "  if from_unit == 'kg' and to_unit == 'lbs':\n",
        "    return value * 2.20462  # 1 kg = 2.20462 lbs\n",
        "  elif from_unit == 'lbs' and to_unit == 'kg':\n",
        "    return value / 2.20462  # 1 lbs = 1/2.20462 kg\n",
        "  else:\n",
        "    raise ValueError(\"Invalid units for weight conversion\")\n",
        "\n",
        "def convert_volume(value, from_unit, to_unit):\n",
        "  \"\"\"\n",
        "  Purpose: To convert volume from liters(l) to gallons(gal) and vice versa\n",
        "\n",
        "  Parameters:\n",
        "  value (float): Value to convert\n",
        "  from_unit (str): Unit to convert from ('l' or 'gal')\n",
        "  to_unit (str): Unit to convert to ('l' or 'gal')\n",
        "\n",
        "  Return value:\n",
        "  float: converted value\n",
        "  \"\"\"\n",
        "  units = {'l', 'gal'}\n",
        "  if from_unit not in units or to_unit not in units:\n",
        "    raise ValueError(\"Invalid units for volume conversion. Use 'l' or 'gal'.\")\n",
        "\n",
        "  if from_unit == 'l' and to_unit == 'gal':\n",
        "    return value * 0.264172  # 1 l = 0.264172 gal\n",
        "  elif from_unit == 'gal' and to_unit == '':\n",
        "    return value / 0.264172  # 1 gal = 1/0.264172 l\n",
        "  else:\n",
        "    raise ValueError(\"Invalid units for volume conversion\")\n",
        "\n",
        "def main():\n",
        "  \"\"\"\n",
        "  Main function to run the program to convert between different units of measurement\n",
        "  \"\"\"\n",
        "  while True:\n",
        "    # ask user to choose the type of conversion\n",
        "    print(\"\\nList of Types of Conversions:\")\n",
        "    print(\"1. Length (m/ft)\")\n",
        "    print(\"2. Weight (kg/lbs)\")\n",
        "    print(\"3. Volume (l/gal)\")\n",
        "\n",
        "    try:\n",
        "      choice = int(input(\"\\nEnter your choice or 4 to exit: \"))\n",
        "\n",
        "      if choice == 4:\n",
        "        print(\"Exiting the program.\")\n",
        "        break\n",
        "\n",
        "      if choice not in [1, 2, 3]:\n",
        "        raise ValueError(\"Invalid choice. Please select a valid conversion type.\")\n",
        "\n",
        "      # ask for value to convert\n",
        "      while True:\n",
        "        try:\n",
        "          value = float(input(\"Enter the value to be converted: \"))\n",
        "          if value <= 0:\n",
        "            print(\"Error: Please enter a positive number.\")\n",
        "            continue\n",
        "          break\n",
        "        except ValueError:\n",
        "          print(\"Error: Please enter a valid number.\")\n",
        "\n",
        "      # ask for units\n",
        "      if choice == 1:\n",
        "        from_unit = input(\"Enter the unit to convert from (m or ft): \").lower()\n",
        "        to_unit = input(\"Enter the unit to convert to (m or ft): \").lower()\n",
        "        result = convert_length(value, from_unit, to_unit)\n",
        "\n",
        "      elif choice == 2:\n",
        "        from_unit = input(\"Enter the unit to convert from (kg or lbs): \").lower()\n",
        "        to_unit = input(\"Enter the unit to convert to (kg or lbs): \").lower()\n",
        "        result = convert_weight(value, from_unit, to_unit)\n",
        "\n",
        "      elif choice == 3:\n",
        "        from_unit = input(\"Enter the unit to convert from (l or gal): \").lower()\n",
        "        to_unit = input(\"Enter the unit to convert to (l or gal): \").lower()\n",
        "        result = convert_volume(value, from_unit, to_unit)\n",
        "\n",
        "      # print result\n",
        "      print(f\"\\nResult: {value} {from_unit} is equal to {result:.2f} {to_unit}.\")\n",
        "    except ValueError as e:\n",
        "      print(f\"Error: {e}\")\n",
        "    except Exception as e:\n",
        "      print(f\"Unexpected error: {e}\")\n",
        "\n",
        "main()"
      ],
      "metadata": {
        "colab": {
          "base_uri": "https://localhost:8080/"
        },
        "id": "n4R1YfMR4oJO",
        "outputId": "9dd5a527-6d56-4f9e-e195-b633b3b45926"
      },
      "execution_count": null,
      "outputs": [
        {
          "output_type": "stream",
          "name": "stdout",
          "text": [
            "\n",
            "List of Types of Conversions:\n",
            "1. Length (m/ft)\n",
            "2. Weight (kg/lbs)\n",
            "3. Volume (l/gal)\n",
            "\n",
            "Enter your choice or 4 to exit: 0\n",
            "Error: Invalid choice. Please select a valid conversion type.\n",
            "\n",
            "List of Types of Conversions:\n",
            "1. Length (m/ft)\n",
            "2. Weight (kg/lbs)\n",
            "3. Volume (l/gal)\n",
            "\n",
            "Enter your choice or 4 to exit: 1\n",
            "Enter the value to be converted: -3\n",
            "Error: Please enter a positive number.\n",
            "Enter the value to be converted: b\n",
            "Error: Please enter a valid number.\n",
            "Enter the value to be converted: 999\n",
            "Enter the unit to convert from (m or ft): m\n",
            "Enter the unit to convert to (m or ft): feet\n",
            "Error: Invalid units for length conversion. Use 'm' or 'ft'.\n",
            "\n",
            "List of Types of Conversions:\n",
            "1. Length (m/ft)\n",
            "2. Weight (kg/lbs)\n",
            "3. Volume (l/gal)\n",
            "\n",
            "Enter your choice or 4 to exit: 1\n",
            "Enter the value to be converted: 999\n",
            "Enter the unit to convert from (m or ft): m\n",
            "Enter the unit to convert to (m or ft): ft\n",
            "\n",
            "Result: 999.0 m is equal to 3277.56 ft.\n",
            "\n",
            "List of Types of Conversions:\n",
            "1. Length (m/ft)\n",
            "2. Weight (kg/lbs)\n",
            "3. Volume (l/gal)\n",
            "\n",
            "Enter your choice or 4 to exit: 2\n",
            "Enter the value to be converted: 137\n",
            "Enter the unit to convert from (kg or lbs): lbs\n",
            "Enter the unit to convert to (kg or lbs): kg\n",
            "\n",
            "Result: 137.0 lbs is equal to 62.14 kg.\n",
            "\n",
            "List of Types of Conversions:\n",
            "1. Length (m/ft)\n",
            "2. Weight (kg/lbs)\n",
            "3. Volume (l/gal)\n",
            "\n",
            "Enter your choice or 4 to exit: 3\n",
            "Enter the value to be converted: 975\n",
            "Enter the unit to convert from (l or gal): l\n",
            "Enter the unit to convert to (l or gal): gal\n",
            "\n",
            "Result: 975.0 l is equal to 257.57 gal.\n",
            "\n",
            "List of Types of Conversions:\n",
            "1. Length (m/ft)\n",
            "2. Weight (kg/lbs)\n",
            "3. Volume (l/gal)\n",
            "\n",
            "Enter your choice or 4 to exit: 4\n",
            "Exiting the program.\n"
          ]
        }
      ]
    },
    {
      "cell_type": "markdown",
      "source": [
        "**Task - 2:**\n",
        "\n",
        "Create a Python program that performs various mathematical operations on a list of numbers.\n",
        "*   The program should:\n",
        "1. Prompt the user to choose an operation (e.g., find the sum, average, maximum, or minimum of the numbers)\n",
        "2. Ask the user to input a list of numbers (separated by spaces).\n",
        "3. Perform the selected operation and display the result.\n",
        "4. Handle potential errors, such as invalid input or empty lists.\n",
        "*   Requirements:\n",
        "1. Functions: Define at least one function for each operation (sum, average, maximum, minimum).\n",
        "2. Error Handling: Use try-except blocks to handle invalid input (e.g., non-numeric values or empty lists).\n",
        "3. User Input: Prompt the user to select the operation and input the list of numbers.\n",
        "4. Docstrings: Include a docstring in each function to describe its purpose, parameters, and\n",
        "return value."
      ],
      "metadata": {
        "id": "XYpjH_4L3wwc"
      }
    },
    {
      "cell_type": "code",
      "source": [
        "# calculates the sum of given list of numbers\n",
        "def add(numbers):\n",
        "  \"\"\"\n",
        "  Purpose: To calculate the sum of a list of numbers\n",
        "\n",
        "  Parameters:\n",
        "  numbers: A list of numeric values\n",
        "\n",
        "  Return value:\n",
        "  float: Sum of the numbers in the list\n",
        "  \"\"\"\n",
        "  return sum(numbers)\n",
        "\n",
        "# calculates the average of given list of numbers\n",
        "def average(numbers):\n",
        "  \"\"\"\n",
        "  Purpose: To calculate the average(mean) of a list of numbers\n",
        "\n",
        "  Parameters:\n",
        "  numbers: A list of numeric values\n",
        "\n",
        "  Return value:\n",
        "  float: Average of the numbers in the list\n",
        "  \"\"\"\n",
        "  return sum(numbers) / len(numbers)\n",
        "\n",
        "# finds the maximum number in the given list\n",
        "def maximum(numbers):\n",
        "  \"\"\"\n",
        "  Purpose: To find the maximum number in a list\n",
        "\n",
        "  Parameters:\n",
        "  numbers: A list of numeric values\n",
        "\n",
        "  Return value:\n",
        "  float: Maximum number in the list\n",
        "  \"\"\"\n",
        "  return max(numbers)\n",
        "\n",
        "# finds the minimum number in the given list\n",
        "def minimum(numbers):\n",
        "  \"\"\"\n",
        "  Purpose: To find the minimum number in a list\n",
        "\n",
        "  Parameters:\n",
        "  numbers: A list of numeric values\n",
        "\n",
        "  Return value:\n",
        "  float: Minimum number in the list\n",
        "  \"\"\"\n",
        "  return min(numbers)\n",
        "\n",
        "def main():\n",
        "  \"\"\"\n",
        "  Main function that prompts the user to select an operation and input a list of numbers.\n",
        "  Performs the selected operation and displays the result.\n",
        "  Handles errors for invalid inputs and empty lists.\n",
        "  \"\"\"\n",
        "  while True:\n",
        "    print(\"\\nList of Operation:\")\n",
        "    print(\"1. Sum\")\n",
        "    print(\"2. Average\")\n",
        "    print(\"3. Maximum\")\n",
        "    print(\"4. Minimum\")\n",
        "\n",
        "    try:\n",
        "      # ask user to choose an operation\n",
        "      choice = int(input(\"Enter your choice or 5 to exit: \"))\n",
        "\n",
        "      if choice == 5:\n",
        "        print(\"Exiting the program.\")\n",
        "        break\n",
        "\n",
        "      if choice not in [1, 2, 3, 4]:\n",
        "        print(\"Invalid choice. Please select a valid option.\")\n",
        "        continue\n",
        "      # ask user for a list of numbers\n",
        "      numbers_input = input(\"Enter numbers separated by spaces: \")\n",
        "      numbers_list = [float(num) for num in numbers_input.split()]\n",
        "\n",
        "      if not numbers_list:\n",
        "        print(\"Error: The list of numbers cannot be empty.\")\n",
        "        continue\n",
        "\n",
        "      # perform the selected operation\n",
        "      if choice == 1:\n",
        "        result = add(numbers_list)\n",
        "        print(f\"\\nSum: {result}\")\n",
        "      elif choice == 2:\n",
        "        result = average(numbers_list)\n",
        "        print(f\"\\nAverage: {result}\")\n",
        "      elif choice == 3:\n",
        "        result = maximum(numbers_list)\n",
        "        print(f\"\\nMaximum: {result}\")\n",
        "      elif choice == 4:\n",
        "        result = minimum(numbers_list)\n",
        "        print(f\"\\nMinimum: {result}\")\n",
        "\n",
        "    except ValueError:\n",
        "      print(\"Error: Please enter valid numeric values.\")\n",
        "    except Exception as e:\n",
        "      print(f\"Unexpected error: {e}\")\n",
        "\n",
        "main()"
      ],
      "metadata": {
        "id": "ycV-_l7d4dos",
        "colab": {
          "base_uri": "https://localhost:8080/"
        },
        "outputId": "2a84ce3f-3567-4709-c1cf-b84a7f5faa82"
      },
      "execution_count": null,
      "outputs": [
        {
          "output_type": "stream",
          "name": "stdout",
          "text": [
            "\n",
            "List of Operation:\n",
            "1. Sum\n",
            "2. Average\n",
            "3. Maximum\n",
            "4. Minimum\n",
            "Enter your choice or 5 to exit: -1\n",
            "Invalid choice. Please select a valid option.\n",
            "\n",
            "List of Operation:\n",
            "1. Sum\n",
            "2. Average\n",
            "3. Maximum\n",
            "4. Minimum\n",
            "Enter your choice or 5 to exit: 1\n",
            "Enter numbers separated by spaces: \n",
            "Error: The list of numbers cannot be empty.\n",
            "\n",
            "List of Operation:\n",
            "1. Sum\n",
            "2. Average\n",
            "3. Maximum\n",
            "4. Minimum\n",
            "Enter your choice or 5 to exit: 1\n",
            "Enter numbers separated by spaces: 1 3 5 7 9 11\n",
            "\n",
            "Sum: 36.0\n",
            "\n",
            "List of Operation:\n",
            "1. Sum\n",
            "2. Average\n",
            "3. Maximum\n",
            "4. Minimum\n",
            "Enter your choice or 5 to exit: 2 4 6 8 10\n",
            "Error: Please enter valid numeric values.\n",
            "\n",
            "List of Operation:\n",
            "1. Sum\n",
            "2. Average\n",
            "3. Maximum\n",
            "4. Minimum\n",
            "Enter your choice or 5 to exit: 3\n",
            "Enter numbers separated by spaces: 3 7 1 9 5\n",
            "\n",
            "Maximum: 9.0\n",
            "\n",
            "List of Operation:\n",
            "1. Sum\n",
            "2. Average\n",
            "3. Maximum\n",
            "4. Minimum\n",
            "Enter your choice or 5 to exit: 4\n",
            "Enter numbers separated by spaces: 6 0 4 8 2\n",
            "\n",
            "Minimum: 0.0\n",
            "\n",
            "List of Operation:\n",
            "1. Sum\n",
            "2. Average\n",
            "3. Maximum\n",
            "4. Minimum\n",
            "Enter your choice or 5 to exit: 5\n",
            "Exiting the program.\n"
          ]
        }
      ]
    },
    {
      "cell_type": "markdown",
      "source": [
        "## Exercise on List Manipulation:"
      ],
      "metadata": {
        "id": "EwIsbR_O4pVp"
      }
    },
    {
      "cell_type": "markdown",
      "source": [
        "1. Extract Every Other Element:\n",
        "\n",
        "  Write a Python function that extracts every other element from a list, starting from the first element.\n",
        "\n",
        "  Requirements:\n",
        "- Define a function extract every other(lst) that takes a list lst as input and returns a\n",
        "new list containing every other element from the original list.\n",
        "- Example: For the input [1, 2, 3, 4, 5, 6], the output should be [1, 3, 5].\n"
      ],
      "metadata": {
        "id": "iN2aJHMZ4wpc"
      }
    },
    {
      "cell_type": "code",
      "source": [
        "def extract_every_other(lst):\n",
        "  return lst[::2]  # selects every other element starting from index 0\n",
        "\n",
        "input_list = [1, 2, 3, 4, 5, 6]\n",
        "new_list = extract_every_other(input_list)\n",
        "print(f\"Input List:\\n{input_list}\\n\")\n",
        "print(f\"Every other element of the list:\\n{new_list}\")"
      ],
      "metadata": {
        "id": "BEgbjHFu4pr8",
        "colab": {
          "base_uri": "https://localhost:8080/"
        },
        "outputId": "4175bc12-2846-4017-b1c7-f277fecc1feb"
      },
      "execution_count": 20,
      "outputs": [
        {
          "output_type": "stream",
          "name": "stdout",
          "text": [
            "Input List:\n",
            "[1, 2, 3, 4, 5, 6]\n",
            "\n",
            "Every other element of the list:\n",
            "[1, 3, 5]\n"
          ]
        }
      ]
    },
    {
      "cell_type": "markdown",
      "source": [
        "2. Slice a Sublist:\n",
        "\n",
        "  Write a Python function that returns a sublist from a given list, starting from a specified index and ending at another specified index.\n",
        "\n",
        "  Requirements:\n",
        "- Define a function get sublist(lst, start, end) that takes a list lst, a starting index start, and an ending index end as input and returns the sublist from start to end (inclusive).\n",
        "- Example: For the input [1, 2, 3, 4, 5, 6] with start=2 and end=4, the output should be [3, 4, 5]."
      ],
      "metadata": {
        "id": "6aCXSKZH4-9i"
      }
    },
    {
      "cell_type": "code",
      "source": [
        "def get_sublist(lst, start, end):\n",
        "  return lst[start:end+1]  # add 1 to end to include the last index\n",
        "\n",
        "input_list = [1, 2, 3, 4, 5, 6]\n",
        "sublist = get_sublist(input_list, 2, 4)\n",
        "print(f\"Input List:\\n{input_list}\\n\")\n",
        "print(f\"Sublist starting from index 2 to index 4:\\n{sublist}\")"
      ],
      "metadata": {
        "id": "A_kBV1374_RR",
        "colab": {
          "base_uri": "https://localhost:8080/"
        },
        "outputId": "56c34e55-8af0-45f7-e302-ed71e6b3e695"
      },
      "execution_count": 14,
      "outputs": [
        {
          "output_type": "stream",
          "name": "stdout",
          "text": [
            "Input List:\n",
            "[1, 2, 3, 4, 5, 6]\n",
            "\n",
            "Sublist starting from index 2 to index 4:\n",
            "[3, 4, 5]\n"
          ]
        }
      ]
    },
    {
      "cell_type": "markdown",
      "source": [
        "3. Reverse a List Using Slicing:\n",
        "\n",
        "  Write a Python function that reverses a list using slicing.\n",
        "\n",
        "  Requirements:\n",
        "- Define a function reverse list(lst) that takes a list lst and returns a reversed list using slicing.\n",
        "- Example: For the input [1, 2, 3, 4, 5], the output should be [5, 4, 3, 2, 1]."
      ],
      "metadata": {
        "id": "3x4SO3405MUF"
      }
    },
    {
      "cell_type": "code",
      "source": [
        "def reverse_list(lst):\n",
        "  return lst[::-1]  # slicing with step -1 to reverse the list\n",
        "\n",
        "input_list = [1, 2, 3, 4, 5]\n",
        "reversed = reverse_list(input_list)\n",
        "print(f\"Input List:\\n{input_list}\\n\")\n",
        "print(f\"Reversed List:\\n{reversed}\")"
      ],
      "metadata": {
        "id": "fFnrjSGB5MEA",
        "colab": {
          "base_uri": "https://localhost:8080/"
        },
        "outputId": "144e569d-f325-4b9e-d625-dfaed14621d2"
      },
      "execution_count": 15,
      "outputs": [
        {
          "output_type": "stream",
          "name": "stdout",
          "text": [
            "Input List:\n",
            "[1, 2, 3, 4, 5]\n",
            "\n",
            "Reversed List:\n",
            "[5, 4, 3, 2, 1]\n"
          ]
        }
      ]
    },
    {
      "cell_type": "markdown",
      "source": [
        "4. Remove the First and Last Elements:\n",
        "\n",
        "  Write a Python function that removes the first and last elements of a list and returns the resulting sublist.\n",
        "\n",
        "  Requirements:\n",
        "- Define a function remove first last(lst) that takes a list lst and returns a sublist without\n",
        "the first and last elements using slicing.\n",
        "- Example: For the input [1, 2, 3, 4, 5], the output should be [2, 3, 4]."
      ],
      "metadata": {
        "id": "PRyHCbMa5Tsi"
      }
    },
    {
      "cell_type": "code",
      "source": [
        "def remove_first_last(lst):\n",
        "  return lst[1:-1]  # slicing from index 1 to second last index\n",
        "\n",
        "input_list = [1, 2, 3, 4, 5]\n",
        "sublist = remove_first_last(input_list)\n",
        "print(f\"Input List:\\n{input_list}\\n\")\n",
        "print(f\"List without the first and last elements:\\n{sublist}\")"
      ],
      "metadata": {
        "id": "r7GhhV_D5S2J",
        "colab": {
          "base_uri": "https://localhost:8080/"
        },
        "outputId": "e86100f4-41d1-4346-90fc-19ee28be9cca"
      },
      "execution_count": 16,
      "outputs": [
        {
          "output_type": "stream",
          "name": "stdout",
          "text": [
            "Input List:\n",
            "[1, 2, 3, 4, 5]\n",
            "\n",
            "List without the first and last elements:\n",
            "[2, 3, 4]\n"
          ]
        }
      ]
    },
    {
      "cell_type": "markdown",
      "source": [
        "5. Get the First n Elements:\n",
        "\n",
        "  Write a Python function that extracts the first n elements from a list.\n",
        "\n",
        "  Requirements:\n",
        "- Define a function get first n(lst, n) that takes a list lst and an integer n as input and returns the first n elements of the list using slicing.\n",
        "- Example: For the input [1, 2, 3, 4, 5] with n=3, the output should be [1, 2, 3]."
      ],
      "metadata": {
        "id": "h5ECezqd5Zw9"
      }
    },
    {
      "cell_type": "code",
      "source": [
        "def get_first_n(lst, n):\n",
        "  return lst[:n]  # except the nth index\n",
        "\n",
        "input_list = [1, 2, 3, 4, 5]\n",
        "n = 3\n",
        "sublist = get_first_n(input_list, n)\n",
        "print(f\"Input List:\\n{input_list}\\n\")\n",
        "print(f\"First {n} elements of the list:\\n{sublist}\")"
      ],
      "metadata": {
        "id": "hRa_u43q5ZZ6",
        "colab": {
          "base_uri": "https://localhost:8080/"
        },
        "outputId": "61854bf4-14af-46c5-89b8-154ee6ecbc34"
      },
      "execution_count": 17,
      "outputs": [
        {
          "output_type": "stream",
          "name": "stdout",
          "text": [
            "Input List:\n",
            "[1, 2, 3, 4, 5]\n",
            "\n",
            "First 3 elements of the list:\n",
            "[1, 2, 3]\n"
          ]
        }
      ]
    },
    {
      "cell_type": "markdown",
      "source": [
        "6. Extract Elements from the End:\n",
        "\n",
        "  Write a Python function that extracts the last n elements of a list using slicing.\n",
        "\n",
        "  Requirements:\n",
        "- Define a function get last n(lst, n) that takes a list lst and an integer n as input and returns the last n elements of the list.\n",
        "- Example: For the input [1, 2, 3, 4, 5] with n=2, the output should be [4, 5]."
      ],
      "metadata": {
        "id": "51rALL_35jxs"
      }
    },
    {
      "cell_type": "code",
      "source": [
        "def get_last_n(lst, n):\n",
        "  return lst[-n:]  # slice from the last n elements\n",
        "\n",
        "input_list = [1, 2, 3, 4, 5]\n",
        "n = 2\n",
        "sublist = get_last_n(input_list, n)\n",
        "print(f\"Input List:\\n{input_list}\\n\")\n",
        "print(f\"Last {n} elements of the list:\\n{sublist}\")"
      ],
      "metadata": {
        "id": "xgW7PRZU5jhx",
        "colab": {
          "base_uri": "https://localhost:8080/"
        },
        "outputId": "ddcc7cde-371e-4e1d-ad89-61d2ed0ece5b"
      },
      "execution_count": 18,
      "outputs": [
        {
          "output_type": "stream",
          "name": "stdout",
          "text": [
            "Input List:\n",
            "[1, 2, 3, 4, 5]\n",
            "\n",
            "Last 2 elements of the list:\n",
            "[4, 5]\n"
          ]
        }
      ]
    },
    {
      "cell_type": "markdown",
      "source": [
        "7. Extract Elements in Reverse Order:\n",
        "\n",
        "  Write a Python function that extracts a list of elements in reverse order starting from the second-to-last element and skipping one element in between.\n",
        "\n",
        "  Requirements:\n",
        "- Define a function reverse skip(lst) that takes a list lst and returns a new list containing every second element starting from the second-to-last, moving backward.\n",
        "- Example: For the input [1, 2, 3, 4, 5, 6], the output should be [5, 3, 1]."
      ],
      "metadata": {
        "id": "34__TtSg5oa-"
      }
    },
    {
      "cell_type": "code",
      "source": [
        "def reverse_skip(lst):\n",
        "  return lst[-2::-2]  # start from second last index and skip 1 element in reverse\n",
        "\n",
        "input_list = [1, 2, 3, 4, 5, 6]\n",
        "sublist = reverse_skip(input_list)\n",
        "print(f\"Input List:\\n{input_list}\\n\")\n",
        "print(f\"Every other element in reverse order starting from the second last element:\\n{sublist}\")"
      ],
      "metadata": {
        "id": "brElPgkK5oIZ",
        "colab": {
          "base_uri": "https://localhost:8080/"
        },
        "outputId": "51923d50-9f0d-4241-b477-88d70291a3cb"
      },
      "execution_count": 19,
      "outputs": [
        {
          "output_type": "stream",
          "name": "stdout",
          "text": [
            "Input List:\n",
            "[1, 2, 3, 4, 5, 6]\n",
            "\n",
            "Every other element in reverse order starting from the second last element:\n",
            "[5, 3, 1]\n"
          ]
        }
      ]
    },
    {
      "cell_type": "markdown",
      "source": [
        "## Exercise on Nested List:"
      ],
      "metadata": {
        "id": "YMdwVVbG5621"
      }
    },
    {
      "cell_type": "markdown",
      "source": [
        "1. Flatten a Nested List:\n",
        "\n",
        "  Write a Python function that takes a nested list and flattens it into a single list, where all the elements are in a single dimension.\n",
        "\n",
        "  Requirements:\n",
        "- Define a function flatten(lst) that takes a nested list lst and returns a flattened version of the list.\n",
        "- Example: For the input [[1, 2], [3, 4], [5]], the output should be [1, 2, 3, 4, 5]."
      ],
      "metadata": {
        "id": "wryvurtq6AhN"
      }
    },
    {
      "cell_type": "code",
      "source": [
        "def flatten(lst):\n",
        "  flattened_list = []\n",
        "  # loop over the sublists inside lst\n",
        "  for sublist in lst:\n",
        "    # loop over each item in the sublist\n",
        "    for item in sublist:\n",
        "      flattened_list.append(item) # add each item to flattened_list\n",
        "  return flattened_list\n",
        "\n",
        "input_list = [[1, 2], [3, 4], [5]]\n",
        "single_list = flatten(input_list)\n",
        "print(f\"Input Nested List:\\n{input_list}\\n\")\n",
        "print(f\"Flattened List:\\n{single_list}\")"
      ],
      "metadata": {
        "id": "poVwp1pA56eR",
        "colab": {
          "base_uri": "https://localhost:8080/"
        },
        "outputId": "9ee26a7b-0a2a-4627-c63e-6354b86be0e9"
      },
      "execution_count": 21,
      "outputs": [
        {
          "output_type": "stream",
          "name": "stdout",
          "text": [
            "Input Nested List:\n",
            "[[1, 2], [3, 4], [5]]\n",
            "\n",
            "Flattened List:\n",
            "[1, 2, 3, 4, 5]\n"
          ]
        }
      ]
    },
    {
      "cell_type": "markdown",
      "source": [
        "2. Accessing Nested List Elements:\n",
        "\n",
        "  Write a Python function that extracts a specific element from a nested list given its indices.\n",
        "\n",
        "  Requirements:\n",
        "- Define a function access nested element(lst, indices) that takes a nested list lst and a list of indices indices, and returns the element at that position.\n",
        "- Example: For the input lst = [[1, 2, 3], [4, 5, 6], [7, 8, 9]] with indices = [1, 2], the output should be 6."
      ],
      "metadata": {
        "id": "4WqNxsfY7H24"
      }
    },
    {
      "cell_type": "code",
      "source": [
        "def access_nested_element(lst, indices):\n",
        "  element = lst\n",
        "  # loop through each index indices\n",
        "  for index in indices:\n",
        "    element = element[index]\n",
        "  return element\n",
        "\n",
        "input_list = [[1, 2, 3], [4, 5, 6], [7, 8, 9]]\n",
        "indices = [1, 2]\n",
        "element = access_nested_element(input_list, indices)\n",
        "print(f\"Input Nested List:\\n{input_list}\\n\")\n",
        "print(f\"Element at index[1,2]: {element}\")"
      ],
      "metadata": {
        "id": "snYxVXrh7He-",
        "colab": {
          "base_uri": "https://localhost:8080/"
        },
        "outputId": "d586bd22-cabd-40e4-adf1-4ad6a4b179e8"
      },
      "execution_count": 22,
      "outputs": [
        {
          "output_type": "stream",
          "name": "stdout",
          "text": [
            "Input Nested List:\n",
            "[[1, 2, 3], [4, 5, 6], [7, 8, 9]]\n",
            "\n",
            "Element at index[1,2]: 6\n"
          ]
        }
      ]
    },
    {
      "cell_type": "markdown",
      "source": [
        "3. Sum of All Elements in a Nested List:\n",
        "\n",
        "  Write a Python function that calculates the sum of all the numbers in a nested list (regardless of depth).\n",
        "\n",
        "  Requirements:\n",
        "- Define a function sum nested(lst) that takes a nested list lst and returns the sum of all the elements.\n",
        "- Example: For the input [[1, 2], [3, [4, 5]], 6], the output should be 21."
      ],
      "metadata": {
        "id": "QweHLnmg7K4K"
      }
    },
    {
      "cell_type": "code",
      "source": [
        "def sum_nested(lst):\n",
        "  total = 0\n",
        "  # loop through each item in the list\n",
        "  for item in lst:\n",
        "    # check if current item is a nested list\n",
        "    if type(item) == list:\n",
        "      total += sum_nested(item) # sum the nested list recursively\n",
        "    else:\n",
        "      total += item # else add it to total\n",
        "  return total\n",
        "\n",
        "input_list = [[1, 2], [3, [4, 5]], 6]\n",
        "result = sum_nested(input_list)\n",
        "print(f\"Input Nested List:\\n{input_list}\\n\")\n",
        "print(f\"Sum of all elements in the nested list: {result}\")"
      ],
      "metadata": {
        "id": "OTz5l3iz7Knd",
        "colab": {
          "base_uri": "https://localhost:8080/"
        },
        "outputId": "729476c6-ebd4-4f1e-b17f-9f1d93b8d131"
      },
      "execution_count": 23,
      "outputs": [
        {
          "output_type": "stream",
          "name": "stdout",
          "text": [
            "Input Nested List:\n",
            "[[1, 2], [3, [4, 5]], 6]\n",
            "\n",
            "Sum of all elements in the nested list: 21\n"
          ]
        }
      ]
    },
    {
      "cell_type": "markdown",
      "source": [
        "4. Remove Specific Element from a Nested List:\n",
        "  \n",
        "  Write a Python function that removes all occurrences of a specific element from a nested list.\n",
        "\n",
        "  Requirements:\n",
        "- Define a function remove element(lst, elem) that removes elem from lst and returns the modified list.\n",
        "- Example: For the input lst = [[1, 2], [3, 2], [4, 5]] and elem = 2, the output should be [[1], [3], [4, 5]]."
      ],
      "metadata": {
        "id": "GUeBb_NC7NuF"
      }
    },
    {
      "cell_type": "code",
      "source": [
        "def remove_element(lst, elem):\n",
        "  result = []\n",
        "  for item in lst:\n",
        "    # check if current item is a nested list\n",
        "    if type(item) == list:\n",
        "      new_sublist = remove_element(item, elem) # call the function recursively for sublist\n",
        "      # add the sublist to the result only if it is not tmpty\n",
        "      if new_sublist:\n",
        "        result.append(new_sublist)\n",
        "    # keep the current item if it is not the target element\n",
        "    elif item != elem:\n",
        "      result.append(item)\n",
        "  return result\n",
        "\n",
        "input_list = [[1, 2], [3, 2], [4, 5]]\n",
        "element = 2\n",
        "result = remove_element(input_list, element)\n",
        "print(f\"Input Nested List:\\n{input_list}\\n\")\n",
        "print(f\"Modified list after removing an element:\\n{result}\")"
      ],
      "metadata": {
        "id": "71XGCpkj7Nfs",
        "colab": {
          "base_uri": "https://localhost:8080/"
        },
        "outputId": "3097f830-4360-44ed-a92a-14a46e7d4fcb"
      },
      "execution_count": 24,
      "outputs": [
        {
          "output_type": "stream",
          "name": "stdout",
          "text": [
            "Input Nested List:\n",
            "[[1, 2], [3, 2], [4, 5]]\n",
            "\n",
            "Modified list after removing an element:\n",
            "[[1], [3], [4, 5]]\n"
          ]
        }
      ]
    },
    {
      "cell_type": "markdown",
      "source": [
        "5. Find the Maximum Element in a Nested List:\n",
        "\n",
        "  Write a Python function that finds the maximum element in a nested list (regardless of depth).\n",
        "\n",
        "  Requirements:\n",
        "- Define a function find max(lst) that takes a nested list lst and returns the maximum element.\n",
        "- Example: For the input [[1, 2], [3, [4, 5]], 6], the output should be 6."
      ],
      "metadata": {
        "id": "ITyPYyDH7QUF"
      }
    },
    {
      "cell_type": "code",
      "source": [
        "def find_max(lst):\n",
        "  max_val = float('-inf')\n",
        "  for item in lst:\n",
        "    # check if current item is a nested list\n",
        "    if type(item) == list:\n",
        "      max_val = max(max_val, find_max(item)) # find max in the nested list recursively\n",
        "    else:\n",
        "      max_val = max(max_val, item) # else compare with max_val\n",
        "  return max_val\n",
        "\n",
        "input_list = [[1, 2], [3, [4, 5]], 6]\n",
        "max_value = find_max(input_list)\n",
        "print(f\"Input Nested List:\\n{input_list}\\n\")\n",
        "print(f\"Maximum element in the nested list: {max_value}\")"
      ],
      "metadata": {
        "colab": {
          "base_uri": "https://localhost:8080/"
        },
        "id": "AO6eJtsrZWX5",
        "outputId": "5177fa3c-b789-454c-c629-10be5981e790"
      },
      "execution_count": 25,
      "outputs": [
        {
          "output_type": "stream",
          "name": "stdout",
          "text": [
            "Input Nested List:\n",
            "[[1, 2], [3, [4, 5]], 6]\n",
            "\n",
            "Maximum element in the nested list: 6\n"
          ]
        }
      ]
    },
    {
      "cell_type": "markdown",
      "source": [
        "6. Count Occurrences of an Element in a Nested List:\n",
        "\n",
        "  Write a Python function that counts how many times a specific element appears in a nested list.\n",
        "\n",
        "  Requirements:\n",
        "- Define a function count occurrences(lst, elem) that counts the occurrences of elem in the nested list lst.\n",
        "- Example: For the input lst = [[1, 2], [2, 3], [2, 4]] and elem = 2, the output should be 3."
      ],
      "metadata": {
        "id": "ZhL2AL9R7Syh"
      }
    },
    {
      "cell_type": "code",
      "source": [
        "def count_occurrences(lst, elem):\n",
        "  count = 0\n",
        "  for item in lst:\n",
        "    # check if current item is a nested list\n",
        "    if type(item) == list:\n",
        "      count += count_occurrences(item, elem)  # call the function recursively for sublist\n",
        "    elif item == elem:  # if current item the target element, increase the count\n",
        "      count += 1\n",
        "  return count\n",
        "\n",
        "input_list = [[1, 2], [2, 3], [2, 4]]\n",
        "element = 2\n",
        "result = count_occurrences(input_list, element)\n",
        "print(f\"Input Nested List:\\n{input_list}\\n\")\n",
        "print(f\"Element {element} occurs {result} times in the nested list.\")"
      ],
      "metadata": {
        "id": "CMRrl6mX7Sbt",
        "colab": {
          "base_uri": "https://localhost:8080/"
        },
        "outputId": "23fbbfea-26fc-44bb-b4d0-a8af1de89078"
      },
      "execution_count": 26,
      "outputs": [
        {
          "output_type": "stream",
          "name": "stdout",
          "text": [
            "Input Nested List:\n",
            "[[1, 2], [2, 3], [2, 4]]\n",
            "\n",
            "Element 2 occurs 3 times in the nested list.\n"
          ]
        }
      ]
    },
    {
      "cell_type": "markdown",
      "source": [
        "7. Flatten a List of Lists of Lists:\n",
        "\n",
        "  Write a Python function that flattens a list of lists of lists into a single list, regardless of the depth.\n",
        "\n",
        "  Requirements:\n",
        "- Define a function deep flatten(lst) that takes a deeply nested list lst and returns a single flattened list.\n",
        "- Example: For the input [[[1, 2], [3, 4]], [[5, 6], [7, 8]]], the output should be [1, 2, 3, 4, 5, 6, 7, 8]."
      ],
      "metadata": {
        "id": "zfxYIYSE7V2H"
      }
    },
    {
      "cell_type": "code",
      "source": [
        "def deep_flatten(lst):\n",
        "  flattened_list = []\n",
        "  for item in lst:\n",
        "    # check if current item is a nested list\n",
        "    if type(item) == list:\n",
        "      flattened_list.extend(deep_flatten(item)) # call the flatten function recursively and add the flattened result to the list\n",
        "    else:\n",
        "      flattened_list.append(item) # else add current item to the list\n",
        "  return flattened_list\n",
        "\n",
        "input_list = [[[1, 2], [3, 4]], [[5, 6], [7, 8]]]\n",
        "flattened_list = deep_flatten(input_list)\n",
        "print(f\"Input Nested List:\\n{input_list}\\n\")\n",
        "print(f\"Flattened List:\\n{flattened_list}\")"
      ],
      "metadata": {
        "id": "8RiM8NZL7Vn1",
        "colab": {
          "base_uri": "https://localhost:8080/"
        },
        "outputId": "58457b73-e034-402e-edbe-a86fa668e8db"
      },
      "execution_count": 27,
      "outputs": [
        {
          "output_type": "stream",
          "name": "stdout",
          "text": [
            "Input Nested List:\n",
            "[[[1, 2], [3, 4]], [[5, 6], [7, 8]]]\n",
            "\n",
            "Flattened List:\n",
            "[1, 2, 3, 4, 5, 6, 7, 8]\n"
          ]
        }
      ]
    },
    {
      "cell_type": "markdown",
      "source": [
        "8. Nested List Average:\n",
        "\n",
        "  Write a Python function that calculates the average of all elements in a nested list.\n",
        "\n",
        "  Requirements:\n",
        "- Define a function average nested(lst) that takes a nested list lst and returns the average of all the elements.\n",
        "- Example: For the input [[1, 2], [3, 4], [5, 6]], the output should be 3.5."
      ],
      "metadata": {
        "id": "iPbu1GZE7YXm"
      }
    },
    {
      "cell_type": "code",
      "source": [
        "def average_nested(lst):\n",
        "  # function to flatten the nested list\n",
        "  def deep_flatten(lst):\n",
        "    flattened_list = []\n",
        "    for item in lst:\n",
        "      if type(item) == list:\n",
        "        flattened_list.extend(deep_flatten(item)) # call the flatten function recursively and add the flattened result to the list\n",
        "      else:\n",
        "        flattened_list.append(item) # else add current item to the list\n",
        "    return flattened_list\n",
        "\n",
        "  # function call to flatten the list\n",
        "  flattened_list = deep_flatten(lst)\n",
        "\n",
        "  # calculate and return the average of flattened list\n",
        "  if flattened_list:\n",
        "    return sum(flattened_list) / len(flattened_list)\n",
        "  else:\n",
        "    return 0\n",
        "\n",
        "input_list = [[1, 2], [3, 4], [5, 6]]\n",
        "average = average_nested(input_list)\n",
        "print(f\"Input Nested List:\\n{input_list}\\n\")\n",
        "print(f\"Average of elements in the nested list: {average}\")"
      ],
      "metadata": {
        "id": "HCcBwNbk7YJj",
        "colab": {
          "base_uri": "https://localhost:8080/"
        },
        "outputId": "38a2885f-fc29-423e-d5a4-27de6f9222cf"
      },
      "execution_count": 28,
      "outputs": [
        {
          "output_type": "stream",
          "name": "stdout",
          "text": [
            "Input Nested List:\n",
            "[[1, 2], [3, 4], [5, 6]]\n",
            "\n",
            "Average of elements in the nested list: 3.5\n"
          ]
        }
      ]
    },
    {
      "cell_type": "markdown",
      "source": [
        "## Basic Vector and Matrix Operation with Numpy\n",
        "### Problem - 1: Array Creation:\n"
      ],
      "metadata": {
        "id": "I-vfjpNW2I7P"
      }
    },
    {
      "cell_type": "code",
      "source": [
        "import numpy as np"
      ],
      "metadata": {
        "id": "2gjdYtQs2HKt"
      },
      "execution_count": 30,
      "outputs": []
    },
    {
      "cell_type": "markdown",
      "source": [
        "1. Initialize an empty array with size 2X2."
      ],
      "metadata": {
        "id": "1t4PF3cb4lLJ"
      }
    },
    {
      "cell_type": "code",
      "execution_count": 31,
      "metadata": {
        "id": "KP6VNwr-KK_L",
        "colab": {
          "base_uri": "https://localhost:8080/"
        },
        "outputId": "c015fd56-5de6-4a1e-e640-20e3ebed0829"
      },
      "outputs": [
        {
          "output_type": "stream",
          "name": "stdout",
          "text": [
            "Empty array of size 2x2:\n",
            "[[2.67807814e-316 0.00000000e+000]\n",
            " [6.63366353e-310 6.63366344e-310]]\n"
          ]
        }
      ],
      "source": [
        "empty_arr = np.empty((2,2))\n",
        "print(f\"Empty array of size 2x2:\\n{empty_arr}\")"
      ]
    },
    {
      "cell_type": "markdown",
      "source": [
        "2. Initialize an all one array with size 4X2."
      ],
      "metadata": {
        "id": "C2ZcbcZn1yIG"
      }
    },
    {
      "cell_type": "code",
      "source": [
        "ones_arr = np.ones((4,2))\n",
        "print(f\"All one array of size 4x2:\\n{ones_arr}\")"
      ],
      "metadata": {
        "id": "jxw2mYb512Ei",
        "colab": {
          "base_uri": "https://localhost:8080/"
        },
        "outputId": "ee42cabb-8749-4331-bff5-12350c01b4ad"
      },
      "execution_count": 32,
      "outputs": [
        {
          "output_type": "stream",
          "name": "stdout",
          "text": [
            "All one array of size 4x2:\n",
            "[[1. 1.]\n",
            " [1. 1.]\n",
            " [1. 1.]\n",
            " [1. 1.]]\n"
          ]
        }
      ]
    },
    {
      "cell_type": "markdown",
      "source": [
        "3. Return a new array of given shape and type, filled with fill value.{Hint: np.full}"
      ],
      "metadata": {
        "id": "HM-sXPcq12YU"
      }
    },
    {
      "cell_type": "code",
      "source": [
        "arr = np.full((3,2), 5, dtype=int)\n",
        "print(\"An array of shape (3,2), 5 as fill value and int data type:\\n\", arr)"
      ],
      "metadata": {
        "id": "hn5crYZ1137L",
        "colab": {
          "base_uri": "https://localhost:8080/"
        },
        "outputId": "eafdaba0-d49d-4e8f-c69a-49042daca019"
      },
      "execution_count": 36,
      "outputs": [
        {
          "output_type": "stream",
          "name": "stdout",
          "text": [
            "An array of shape (3,2), 5 as fill value and int data type:\n",
            " [[5 5]\n",
            " [5 5]\n",
            " [5 5]]\n"
          ]
        }
      ]
    },
    {
      "cell_type": "markdown",
      "source": [
        "4. Return a new array of zeros with same shape and type as a given array.{Hint: np.zeros like}"
      ],
      "metadata": {
        "id": "g_x0qTyC14ZD"
      }
    },
    {
      "cell_type": "code",
      "source": [
        "print(f\"An array of shape (3,2), all zeros, and int data type:\\n{np.zeros_like(arr)}\")"
      ],
      "metadata": {
        "id": "MQc0BZ9R16PS",
        "colab": {
          "base_uri": "https://localhost:8080/"
        },
        "outputId": "1ae31bdb-33a5-4b38-9b41-dad1f7262ba7"
      },
      "execution_count": 37,
      "outputs": [
        {
          "output_type": "stream",
          "name": "stdout",
          "text": [
            "An array of shape (3,2), all zeros, and int data type:\n",
            "[[0 0]\n",
            " [0 0]\n",
            " [0 0]]\n"
          ]
        }
      ]
    },
    {
      "cell_type": "markdown",
      "source": [
        "5. Return a new array of ones with same shape and type as a given array.{Hint: np.ones like}"
      ],
      "metadata": {
        "id": "rPKWGYw516iS"
      }
    },
    {
      "cell_type": "code",
      "source": [
        "print(f\"An array of shape (3,2), all ones, and int data type:\\n{np.ones_like(arr)}\")"
      ],
      "metadata": {
        "id": "bPJaCBod17-Z",
        "colab": {
          "base_uri": "https://localhost:8080/"
        },
        "outputId": "1a4a7678-acf0-459b-d356-2fe2a6c1ba7f"
      },
      "execution_count": 38,
      "outputs": [
        {
          "output_type": "stream",
          "name": "stdout",
          "text": [
            "An array of shape (3,2), all ones, and int data type:\n",
            "[[1 1]\n",
            " [1 1]\n",
            " [1 1]]\n"
          ]
        }
      ]
    },
    {
      "cell_type": "markdown",
      "source": [
        "6. For an existing list new_list = [1,2,3,4] convert to an numpy array.{Hint: np.array()}"
      ],
      "metadata": {
        "id": "GflBat9918S8"
      }
    },
    {
      "cell_type": "code",
      "source": [
        "new_list = [1,2,3,4]\n",
        "new_arr = np.array(new_list)\n",
        "print(f\"List: {new_list}\")\n",
        "print(f\"Array: {new_arr}\")\n",
        "print(f\"Type of array: {type(new_arr)}\")"
      ],
      "metadata": {
        "id": "AS1HyOiZ19pK",
        "colab": {
          "base_uri": "https://localhost:8080/"
        },
        "outputId": "f8528e5d-bc28-4edc-cc58-bbe8eb961513"
      },
      "execution_count": 39,
      "outputs": [
        {
          "output_type": "stream",
          "name": "stdout",
          "text": [
            "List: [1, 2, 3, 4]\n",
            "Array: [1 2 3 4]\n",
            "Type of array: <class 'numpy.ndarray'>\n"
          ]
        }
      ]
    },
    {
      "cell_type": "markdown",
      "source": [
        "### Problem - 2: Array Manipulation: Numerical Ranges and Array indexing:"
      ],
      "metadata": {
        "id": "Ws2MEs2E7tXp"
      }
    },
    {
      "cell_type": "markdown",
      "source": [
        "1. Create an array with values ranging from 10 to 49. {Hint:np.arrange()}."
      ],
      "metadata": {
        "id": "gKF9uMKi70Er"
      }
    },
    {
      "cell_type": "code",
      "source": [
        "print(f\"Array with values ranging from 10 to 49:\\n{np.arange(10, 49)}\")"
      ],
      "metadata": {
        "id": "xmnMdU0Q7swg",
        "colab": {
          "base_uri": "https://localhost:8080/"
        },
        "outputId": "a3aa924d-b290-4706-e9a5-b19960f9e630"
      },
      "execution_count": 40,
      "outputs": [
        {
          "output_type": "stream",
          "name": "stdout",
          "text": [
            "Array with values ranging from 10 to 49:\n",
            "[10 11 12 13 14 15 16 17 18 19 20 21 22 23 24 25 26 27 28 29 30 31 32 33\n",
            " 34 35 36 37 38 39 40 41 42 43 44 45 46 47 48]\n"
          ]
        }
      ]
    },
    {
      "cell_type": "markdown",
      "source": [
        "2. Create a 3X3 matrix with values ranging from 0 to 8. {Hint:look for np.reshape()}"
      ],
      "metadata": {
        "id": "47AQfVae71-P"
      }
    },
    {
      "cell_type": "code",
      "source": [
        "array = np.arange(9) # range => 0 to 8\n",
        "matrix = np.reshape(array, (3,3))\n",
        "print(f\"3X3 matrix with values ranging from 0 to 8:\\n{matrix}\")"
      ],
      "metadata": {
        "id": "vJ7gctDE74fF",
        "colab": {
          "base_uri": "https://localhost:8080/"
        },
        "outputId": "6b70b882-a1e3-451f-f8eb-afa34b1d4b3d"
      },
      "execution_count": 41,
      "outputs": [
        {
          "output_type": "stream",
          "name": "stdout",
          "text": [
            "3X3 matrix with values ranging from 0 to 8:\n",
            "[[0 1 2]\n",
            " [3 4 5]\n",
            " [6 7 8]]\n"
          ]
        }
      ]
    },
    {
      "cell_type": "markdown",
      "source": [
        "3. Create a 3X3 identity matrix.{Hint:np.eye()}"
      ],
      "metadata": {
        "id": "lPrts2rh75Hw"
      }
    },
    {
      "cell_type": "code",
      "source": [
        "identity = np.eye(3, dtype=int)\n",
        "print(f\"3X3 identity matrix:\\n{identity}\")"
      ],
      "metadata": {
        "id": "wLYExE-c7469",
        "colab": {
          "base_uri": "https://localhost:8080/"
        },
        "outputId": "8ed7540b-d57a-4f30-8e2a-08d2724644dd"
      },
      "execution_count": 42,
      "outputs": [
        {
          "output_type": "stream",
          "name": "stdout",
          "text": [
            "3X3 identity matrix:\n",
            "[[1 0 0]\n",
            " [0 1 0]\n",
            " [0 0 1]]\n"
          ]
        }
      ]
    },
    {
      "cell_type": "markdown",
      "source": [
        "4. Create a random array of size 30 and find the mean of the array.\n",
        "{Hint:check for np.random.random() and array.mean() function}"
      ],
      "metadata": {
        "id": "VaXdK_fw76ln"
      }
    },
    {
      "cell_type": "code",
      "source": [
        "random_arr = np.random.random(30)\n",
        "print(f\"Random array of size 30:\\n{random_arr}\")\n",
        "mean = np.mean(random_arr)\n",
        "print(f\"\\nMean of the array is {mean}.\")"
      ],
      "metadata": {
        "id": "mtsQS_dl7_nM",
        "colab": {
          "base_uri": "https://localhost:8080/"
        },
        "outputId": "2c6820e3-6a82-41d2-800b-51be976a1223"
      },
      "execution_count": 47,
      "outputs": [
        {
          "output_type": "stream",
          "name": "stdout",
          "text": [
            "Random array of size 30:\n",
            "[0.26495966 0.31706762 0.40923532 0.89991427 0.67158288 0.56957916\n",
            " 0.71237126 0.49046966 0.25131227 0.36030834 0.26655097 0.12317707\n",
            " 0.45167448 0.61473432 0.79918676 0.3158854  0.50910993 0.45994119\n",
            " 0.04207484 0.0815252  0.45062539 0.6183083  0.30151394 0.06017391\n",
            " 0.57910345 0.29946657 0.7374929  0.8100856  0.97084433 0.31049259]\n",
            "\n",
            "Mean of the array is 0.4582922526105491.\n"
          ]
        }
      ]
    },
    {
      "cell_type": "markdown",
      "source": [
        "5. Create a 10X10 array with random values and find the minimum and maximum values."
      ],
      "metadata": {
        "id": "7G9BJK808AQP"
      }
    },
    {
      "cell_type": "code",
      "source": [
        "random_arr1 = np.random.random((10, 10))\n",
        "print(f\"10X10 array with random values:\\n{random_arr1}\")\n",
        "print(f\"\\nThe minimum value is {np.min(random_arr1)}.\")\n",
        "print(f\"\\nThe maximum value is {np.max(random_arr1)}.\")"
      ],
      "metadata": {
        "id": "otT0jZSl8ADe",
        "colab": {
          "base_uri": "https://localhost:8080/"
        },
        "outputId": "3729e681-0541-4f0b-ed5f-651ad1e99a7e"
      },
      "execution_count": 56,
      "outputs": [
        {
          "output_type": "stream",
          "name": "stdout",
          "text": [
            "10X10 array with random values:\n",
            "[[0.97954198 0.85367435 0.61279748 0.92096559 0.15874204 0.86836165\n",
            "  0.35099855 0.1783252  0.01943715 0.40647611]\n",
            " [0.70816506 0.16032926 0.10142868 0.73672849 0.87239476 0.29364057\n",
            "  0.47420647 0.21217883 0.88883955 0.48432969]\n",
            " [0.03119323 0.9644606  0.95659936 0.44268771 0.72252825 0.7187605\n",
            "  0.68448743 0.66921229 0.7317858  0.23839149]\n",
            " [0.53459922 0.08017524 0.89277187 0.68764256 0.39366859 0.01999358\n",
            "  0.91212266 0.17147164 0.4013407  0.15505444]\n",
            " [0.07084644 0.27431629 0.97204159 0.05028932 0.16205861 0.95982818\n",
            "  0.97728715 0.73492411 0.13790027 0.10379646]\n",
            " [0.73651428 0.50091427 0.45727888 0.89473769 0.00910794 0.05141668\n",
            "  0.83971379 0.10050123 0.20004116 0.62118945]\n",
            " [0.56579166 0.37653509 0.78682205 0.32586636 0.72499067 0.87360514\n",
            "  0.04794273 0.15376491 0.60644576 0.26216124]\n",
            " [0.17147173 0.19419409 0.32043866 0.26580155 0.22866879 0.725157\n",
            "  0.38192428 0.59378627 0.76695003 0.26277351]\n",
            " [0.89325193 0.26274997 0.83890872 0.68359745 0.6164359  0.30844265\n",
            "  0.08994394 0.48651455 0.41836116 0.7756318 ]\n",
            " [0.51114162 0.50970305 0.61584171 0.43168878 0.8561684  0.13791051\n",
            "  0.48232644 0.62432751 0.46103016 0.34360082]]\n",
            "\n",
            "The minimum value is 0.009107937119780751.\n",
            "\n",
            "The maximum value is 0.9795419762648129.\n"
          ]
        }
      ]
    },
    {
      "cell_type": "markdown",
      "source": [
        "6. Create a zero array of size 10 and replace 5th element with 1."
      ],
      "metadata": {
        "id": "_chSFTAG8CB5"
      }
    },
    {
      "cell_type": "code",
      "source": [
        "zeros_arr = np.zeros(10, dtype=int)\n",
        "print(f\"All zeros array:\\n{zeros_arr}\")\n",
        "zeros_arr[4] = 1\n",
        "print(f\"\\nNew array:\\n{zeros_arr}\")"
      ],
      "metadata": {
        "id": "XIfbVGb08B0H",
        "colab": {
          "base_uri": "https://localhost:8080/"
        },
        "outputId": "3a8eafe1-0977-43c7-958e-77d38a659446"
      },
      "execution_count": 51,
      "outputs": [
        {
          "output_type": "stream",
          "name": "stdout",
          "text": [
            "All zeros array:\n",
            "[0 0 0 0 0 0 0 0 0 0]\n",
            "\n",
            "New array:\n",
            "[0 0 0 0 1 0 0 0 0 0]\n"
          ]
        }
      ]
    },
    {
      "cell_type": "markdown",
      "source": [
        "7. Reverse an array arr = [1,2,0,0,4,0]."
      ],
      "metadata": {
        "id": "Am6cDmv38EGG"
      }
    },
    {
      "cell_type": "code",
      "source": [
        "arr = np.array([1,2,0,0,4,0])\n",
        "print(f\"Original array:\\n{arr}\")\n",
        "reversed = arr[::-1]\n",
        "print(f\"\\nReversed array:\\n{reversed}\")"
      ],
      "metadata": {
        "colab": {
          "base_uri": "https://localhost:8080/"
        },
        "id": "NibCR4tSqXn5",
        "outputId": "4df71c35-5792-4e47-950f-4a46f65b30b1"
      },
      "execution_count": 53,
      "outputs": [
        {
          "output_type": "stream",
          "name": "stdout",
          "text": [
            "Original array:\n",
            "[1 2 0 0 4 0]\n",
            "\n",
            "Reversed array:\n",
            "[0 4 0 0 2 1]\n"
          ]
        }
      ]
    },
    {
      "cell_type": "markdown",
      "source": [
        "8. Create a 2d array with 1 on border and 0 inside."
      ],
      "metadata": {
        "id": "mq3YVsAJ8FrA"
      }
    },
    {
      "cell_type": "code",
      "source": [
        "array = np.ones((7, 7), dtype=int)\n",
        "array[1:-1, 1:-1]=0\n",
        "print(f\"2d array with 1 on border and 0 inside:\\n{array}\")"
      ],
      "metadata": {
        "id": "3GiwBz1k8Fdm",
        "colab": {
          "base_uri": "https://localhost:8080/"
        },
        "outputId": "f606d572-4edb-408e-db00-ec7ac1f687f7"
      },
      "execution_count": 54,
      "outputs": [
        {
          "output_type": "stream",
          "name": "stdout",
          "text": [
            "2d array with 1 on border and 0 inside:\n",
            "[[1 1 1 1 1 1 1]\n",
            " [1 0 0 0 0 0 1]\n",
            " [1 0 0 0 0 0 1]\n",
            " [1 0 0 0 0 0 1]\n",
            " [1 0 0 0 0 0 1]\n",
            " [1 0 0 0 0 0 1]\n",
            " [1 1 1 1 1 1 1]]\n"
          ]
        }
      ]
    },
    {
      "cell_type": "markdown",
      "source": [
        "9. Create a 8X8 matrix and fill it with a checkerboard pattern."
      ],
      "metadata": {
        "id": "4uPkOeO78Hjw"
      }
    },
    {
      "cell_type": "code",
      "source": [
        "array = np.zeros((8, 8), dtype=int)\n",
        "array[1::2, ::2]=1\n",
        "array[::2, 1::2]=1\n",
        "print(f\"A checkerboard pattern 8x8 matrix:\\n{array}\")"
      ],
      "metadata": {
        "id": "4plkfXZz8HYq",
        "colab": {
          "base_uri": "https://localhost:8080/"
        },
        "outputId": "171f79db-2d29-4c23-9ed8-e252a552e488"
      },
      "execution_count": 55,
      "outputs": [
        {
          "output_type": "stream",
          "name": "stdout",
          "text": [
            "A checkerboard pattern 8x8 matrix:\n",
            "[[0 1 0 1 0 1 0 1]\n",
            " [1 0 1 0 1 0 1 0]\n",
            " [0 1 0 1 0 1 0 1]\n",
            " [1 0 1 0 1 0 1 0]\n",
            " [0 1 0 1 0 1 0 1]\n",
            " [1 0 1 0 1 0 1 0]\n",
            " [0 1 0 1 0 1 0 1]\n",
            " [1 0 1 0 1 0 1 0]]\n"
          ]
        }
      ]
    },
    {
      "cell_type": "markdown",
      "source": [
        "### Problem - 3: Array Operations:\n",
        "\n",
        "For the following arrays:\n",
        "\n",
        "x = np.array([[1,2],[3,5]]) and y = np.array([[5,6],[7,8]]);\n",
        "\n",
        "v = np.array([9,10]) and w = np.array([11,12]);\n",
        "\n",
        "Complete all the task using numpy:\n"
      ],
      "metadata": {
        "id": "yRZn9VM08NBl"
      }
    },
    {
      "cell_type": "markdown",
      "source": [
        "1. Add the two array."
      ],
      "metadata": {
        "id": "mFob4h6Q8TaW"
      }
    },
    {
      "cell_type": "code",
      "source": [
        "x = np.array([[1,2],[3,5]])\n",
        "y = np.array([[5,6],[7,8]])\n",
        "v = np.array([9,10])\n",
        "w = np.array([11,12])\n",
        "\n",
        "print(\"Adding x and y:\")\n",
        "add_xy = np.add(x, y)\n",
        "print(add_xy)\n",
        "print(\"\\nAdding v and w:\")\n",
        "add_vw = np.add(v, w)\n",
        "print(add_vw)"
      ],
      "metadata": {
        "id": "JlXD5gtR8S_v",
        "colab": {
          "base_uri": "https://localhost:8080/"
        },
        "outputId": "40cf2b24-f016-46e7-f6a9-67b6c8357b1a"
      },
      "execution_count": 57,
      "outputs": [
        {
          "output_type": "stream",
          "name": "stdout",
          "text": [
            "Adding x and y:\n",
            "[[ 6  8]\n",
            " [10 13]]\n",
            "\n",
            "Adding v and w:\n",
            "[20 22]\n"
          ]
        }
      ]
    },
    {
      "cell_type": "markdown",
      "source": [
        "2. Subtract the two array."
      ],
      "metadata": {
        "id": "S_Qb0vcl8Vwe"
      }
    },
    {
      "cell_type": "code",
      "source": [
        "print(\"Subtracting y from x:\")\n",
        "subtract_xy = np.subtract(x, y)\n",
        "print(subtract_xy)\n",
        "print(\"\\nSubtracting w from v:\")\n",
        "subtract_vw = np.subtract(v, w)\n",
        "print(subtract_vw)"
      ],
      "metadata": {
        "id": "d9cR-cQ48Vd6",
        "colab": {
          "base_uri": "https://localhost:8080/"
        },
        "outputId": "cd50e2a2-6d3d-431d-d33c-49da51b25a31"
      },
      "execution_count": 59,
      "outputs": [
        {
          "output_type": "stream",
          "name": "stdout",
          "text": [
            "Subtracting y from x:\n",
            "[[-4 -4]\n",
            " [-4 -3]]\n",
            "\n",
            "Subtracting w from v:\n",
            "[-2 -2]\n"
          ]
        }
      ]
    },
    {
      "cell_type": "markdown",
      "source": [
        "3. Multiply the array with any integers of your choice."
      ],
      "metadata": {
        "id": "QBEG5Tne8Xtg"
      }
    },
    {
      "cell_type": "code",
      "source": [
        "print(\"Multipliplying x with 2:\")\n",
        "multiply1 = np.dot(x, 2)\n",
        "print(multiply1)\n",
        "print(\"\\nMultipliplying y with 3:\")\n",
        "multiply2 = np.dot(y, 3)\n",
        "print(multiply2)"
      ],
      "metadata": {
        "id": "xiVuA1QU8XhL",
        "colab": {
          "base_uri": "https://localhost:8080/"
        },
        "outputId": "3ab0cba4-a0c6-4642-8cc1-a0fe4f7dd60c"
      },
      "execution_count": 60,
      "outputs": [
        {
          "output_type": "stream",
          "name": "stdout",
          "text": [
            "Multipliplying x with 2:\n",
            "[[ 2  4]\n",
            " [ 6 10]]\n",
            "\n",
            "Multipliplying y with 3:\n",
            "[[15 18]\n",
            " [21 24]]\n"
          ]
        }
      ]
    },
    {
      "cell_type": "markdown",
      "source": [
        "4. Find the square of each element of the array."
      ],
      "metadata": {
        "id": "zz-THavf8ZW6"
      }
    },
    {
      "cell_type": "code",
      "source": [
        "print(\"Square of each element of array x:\")\n",
        "squared_arrx = x ** 2\n",
        "print(squared_arrx)\n",
        "print(\"\\nSquare of each element of array v:\")\n",
        "squared_arrv = v ** 2\n",
        "print(squared_arrv)"
      ],
      "metadata": {
        "id": "bwuxiXEW8ZKK",
        "colab": {
          "base_uri": "https://localhost:8080/"
        },
        "outputId": "a87d00f2-be7d-4f78-c2cf-e19196e6aff2"
      },
      "execution_count": 61,
      "outputs": [
        {
          "output_type": "stream",
          "name": "stdout",
          "text": [
            "Square of each element of array x:\n",
            "[[ 1  4]\n",
            " [ 9 25]]\n",
            "\n",
            "Square of each element of array v:\n",
            "[ 81 100]\n"
          ]
        }
      ]
    },
    {
      "cell_type": "markdown",
      "source": [
        "5. Find the dot product between: v(and)w ; x(and)v ; x(and)y."
      ],
      "metadata": {
        "id": "sGPw_0mt8bTv"
      }
    },
    {
      "cell_type": "code",
      "source": [
        "print(\"Dot Products:\")\n",
        "dot_prod_vw = np.dot(v, w)\n",
        "print(\"\\nv(and)w:\", dot_prod_vw)\n",
        "dot_prod_xv = np.dot(x, v)\n",
        "print(\"\\nx(and)v:\", dot_prod_xv)\n",
        "dot_prod_xy = np.dot(x, y)\n",
        "print(\"\\nx(and)y:\\n\", dot_prod_xy)"
      ],
      "metadata": {
        "id": "qeW5RWXp8bGD",
        "colab": {
          "base_uri": "https://localhost:8080/"
        },
        "outputId": "eaadc59d-0b8c-4f79-edf3-99af5129d8b5"
      },
      "execution_count": 63,
      "outputs": [
        {
          "output_type": "stream",
          "name": "stdout",
          "text": [
            "Dot Products:\n",
            "\n",
            "v(and)w: 219\n",
            "\n",
            "x(and)v: [29 77]\n",
            "\n",
            "x(and)y:\n",
            " [[19 22]\n",
            " [50 58]]\n"
          ]
        }
      ]
    },
    {
      "cell_type": "markdown",
      "source": [
        "6. Concatenate x(and)y along row and Concatenate v(and)w along column. {Hint:try np.concatenate() or np.vstack() functions."
      ],
      "metadata": {
        "id": "JSCcC5Mx8c-D"
      }
    },
    {
      "cell_type": "code",
      "source": [
        "print(\"Concatenating x(and)y along row:\")\n",
        "concatenate_row = np.concatenate((x, y), axis=0)\n",
        "print(concatenate_row)\n",
        "\n",
        "print(\"\\nConcatenating v(and)w along column:\")\n",
        "concatenate_column = np.concatenate_column = np.vstack((v, w)).T\n",
        "print(concatenate_column)"
      ],
      "metadata": {
        "id": "JCW9x7uF8cyj",
        "colab": {
          "base_uri": "https://localhost:8080/"
        },
        "outputId": "27ae13d6-d849-4bde-f247-ef74e8d8c5a7"
      },
      "execution_count": 64,
      "outputs": [
        {
          "output_type": "stream",
          "name": "stdout",
          "text": [
            "Concatenating x(and)y along row:\n",
            "[[1 2]\n",
            " [3 5]\n",
            " [5 6]\n",
            " [7 8]]\n",
            "\n",
            "Concatenating v(and)w along column:\n",
            "[[ 9 11]\n",
            " [10 12]]\n"
          ]
        }
      ]
    },
    {
      "cell_type": "markdown",
      "source": [
        "7. Concatenate x(and)v; if you get an error, observe and explain why did you get the error?"
      ],
      "metadata": {
        "id": "Og1km3tu8e-H"
      }
    },
    {
      "cell_type": "code",
      "source": [
        "print(\"\\nConcatenating x(and)v:\")\n",
        "concatenate_xv = np.concatenate((x, v), axis=0)\n",
        "print(concatenate_xv)"
      ],
      "metadata": {
        "colab": {
          "base_uri": "https://localhost:8080/",
          "height": 201
        },
        "id": "N-QsvcjmtFnM",
        "outputId": "f8c81921-7e88-4c21-851b-ec0bf9007902"
      },
      "execution_count": 65,
      "outputs": [
        {
          "output_type": "stream",
          "name": "stdout",
          "text": [
            "\n",
            "Concatenating x(and)v:\n"
          ]
        },
        {
          "output_type": "error",
          "ename": "ValueError",
          "evalue": "all the input arrays must have same number of dimensions, but the array at index 0 has 2 dimension(s) and the array at index 1 has 1 dimension(s)",
          "traceback": [
            "\u001b[0;31m---------------------------------------------------------------------------\u001b[0m",
            "\u001b[0;31mValueError\u001b[0m                                Traceback (most recent call last)",
            "\u001b[0;32m<ipython-input-65-82c267f3bcd6>\u001b[0m in \u001b[0;36m<cell line: 0>\u001b[0;34m()\u001b[0m\n\u001b[1;32m      1\u001b[0m \u001b[0mprint\u001b[0m\u001b[0;34m(\u001b[0m\u001b[0;34m\"\\nConcatenating x(and)v:\"\u001b[0m\u001b[0;34m)\u001b[0m\u001b[0;34m\u001b[0m\u001b[0;34m\u001b[0m\u001b[0m\n\u001b[0;32m----> 2\u001b[0;31m \u001b[0mconcatenate_xv\u001b[0m \u001b[0;34m=\u001b[0m \u001b[0mnp\u001b[0m\u001b[0;34m.\u001b[0m\u001b[0mconcatenate\u001b[0m\u001b[0;34m(\u001b[0m\u001b[0;34m(\u001b[0m\u001b[0mx\u001b[0m\u001b[0;34m,\u001b[0m \u001b[0mv\u001b[0m\u001b[0;34m)\u001b[0m\u001b[0;34m,\u001b[0m \u001b[0maxis\u001b[0m\u001b[0;34m=\u001b[0m\u001b[0;36m0\u001b[0m\u001b[0;34m)\u001b[0m\u001b[0;34m\u001b[0m\u001b[0;34m\u001b[0m\u001b[0m\n\u001b[0m\u001b[1;32m      3\u001b[0m \u001b[0mprint\u001b[0m\u001b[0;34m(\u001b[0m\u001b[0mconcatenate_xv\u001b[0m\u001b[0;34m)\u001b[0m\u001b[0;34m\u001b[0m\u001b[0;34m\u001b[0m\u001b[0m\n",
            "\u001b[0;31mValueError\u001b[0m: all the input arrays must have same number of dimensions, but the array at index 0 has 2 dimension(s) and the array at index 1 has 1 dimension(s)"
          ]
        }
      ]
    },
    {
      "cell_type": "markdown",
      "source": [
        "### Error Explanation\n",
        "We get an error when we try to concatenate x and v directly because their shapes are not compatible. To concatenate any two arrays, their dimensions must align. In this case, the error occurs because one is a 2D array and the other is a 1D array."
      ],
      "metadata": {
        "id": "Nt2canxFuFNw"
      }
    },
    {
      "cell_type": "markdown",
      "source": [
        "### Problem - 4: Matrix Operations:\n",
        "- For the following arrays:\n",
        "\n",
        "  A = np.array([[3,4],[7,8]]) and B = np.array([[5,3],[2,1]]);\n",
        "\n",
        "  Prove following with Numpy:\n",
        "  1. Prove A.A−1 = I.\n",
        "  2. Prove AB ̸= BA.\n",
        "  3. Prove(AB)T =BTAT."
      ],
      "metadata": {
        "id": "qsye1D1v8hMI"
      }
    },
    {
      "cell_type": "code",
      "source": [
        "A = np.array([[3,4],[7,8]])\n",
        "B = np.array([[5,3],[2,1]])\n",
        "\n",
        "#1\n",
        "from numpy import linalg\n",
        "\n",
        "inverse_A = np.linalg.inv(A)\n",
        "result1 = np.dot(A, inverse_A)\n",
        "print(f\"1. Result of A.A−1:\\n{np.round(result1)}\")\n",
        "\n",
        "#2\n",
        "prod_AB = np.dot(A, B)\n",
        "prod_BA = np.dot(B, A)\n",
        "\n",
        "check = np.array_equal(A, B)\n",
        "print(\"\\n\")\n",
        "if check == True:\n",
        "  print(\"2. AB = BA\")\n",
        "else:\n",
        "  print(\"2. AB != BA\")\n",
        "\n",
        "#3\n",
        "transpose_A = np.transpose(A)\n",
        "transpose_B = np.transpose(B)\n",
        "\n",
        "prod_BTAT = np.dot(transpose_B, transpose_A)\n",
        "transpose_AB = np.transpose(prod_AB)\n",
        "\n",
        "check1 = np.array_equal(transpose_AB, prod_BTAT)\n",
        "print(\"\\n\")\n",
        "if check1 == True:\n",
        "  print(\"3. (AB)T = BT.AT\")\n",
        "else:\n",
        "  print(\"3. (AB)T != BT.AT\")"
      ],
      "metadata": {
        "id": "dElQfEY68u8-",
        "colab": {
          "base_uri": "https://localhost:8080/"
        },
        "outputId": "76e6e068-f6d5-48dd-dfcf-b99ef5eb4109"
      },
      "execution_count": 67,
      "outputs": [
        {
          "output_type": "stream",
          "name": "stdout",
          "text": [
            "1. Result of A.A−1:\n",
            "[[1. 0.]\n",
            " [0. 1.]]\n",
            "\n",
            "\n",
            "2. AB != BA\n",
            "\n",
            "\n",
            "3. (AB)T = BT.AT\n"
          ]
        }
      ]
    },
    {
      "cell_type": "markdown",
      "source": [
        "- Solve the following system of Linear equation using Inverse Methods.\n",
        "\n",
        "  2x − 3y + z = −1\n",
        "\n",
        "  x − y + 2z = −3\n",
        "\n",
        "  3x + y − z = 9\n",
        "\n",
        "  {Hint: First use Numpy array to represent the equation in Matrix form. Then Solve for: AX = B}"
      ],
      "metadata": {
        "id": "ep85jQse8viC"
      }
    },
    {
      "cell_type": "code",
      "source": [
        "# representing the equation in Matrix form\n",
        "# coefficient matrix A\n",
        "A = np.array([[2, -3, 1],\n",
        "              [1, -1, 2],\n",
        "              [3, 1, -1]])\n",
        "\n",
        "# constant matrix B\n",
        "B = np.array([-1, -3, 9])\n",
        "\n",
        "print(\"Matrix representation of the equation AX = B:\")\n",
        "print(\"Coefficient matrix A:\")\n",
        "print(A)\n",
        "print(\"\\nConstant matrix B:\")\n",
        "print(B)\n",
        "\n",
        "# find the determinant of A\n",
        "det_A = np.linalg.det(A)\n",
        "\n",
        "# find the adjugate matrix of A\n",
        "cofactor_matrix = np.zeros_like(A, dtype=float)\n",
        "\n",
        "# find the cofactor matrix using a loop\n",
        "for i in range(A.shape[0]):  # loop over rows\n",
        "    for j in range(A.shape[1]):  # loop over columns\n",
        "        # create the minor matrix by deleting the i-th row and j-th column\n",
        "        minor_matrix = np.delete(np.delete(A, i, axis=0), j, axis=1)\n",
        "        # find the determinant of the minor matrix and apply the sign\n",
        "        cofactor_matrix[i, j] = ((-1) ** (i + j)) * np.linalg.det(minor_matrix)\n",
        "\n",
        "# adjugate matrix is the transpose of cofactor matrix\n",
        "adjugate_matrix = cofactor_matrix.T\n",
        "\n",
        "# find the inverse of A\n",
        "A_inv = adjugate_matrix / det_A\n",
        "\n",
        "# solve for X: X = A_inv * B\n",
        "X = np.dot(A_inv, B)\n",
        "\n",
        "print(\"\\nSolution vector X using inverse method:\")\n",
        "print(X)"
      ],
      "metadata": {
        "id": "4dFnfSuh8vUo",
        "colab": {
          "base_uri": "https://localhost:8080/"
        },
        "outputId": "8fb95102-d007-4f98-f2d0-ca80a0fc0c4b"
      },
      "execution_count": 71,
      "outputs": [
        {
          "output_type": "stream",
          "name": "stdout",
          "text": [
            "Matrix representation of the equation AX = B:\n",
            "Coefficient matrix A:\n",
            "[[ 2 -3  1]\n",
            " [ 1 -1  2]\n",
            " [ 3  1 -1]]\n",
            "\n",
            "Constant matrix B:\n",
            "[-1 -3  9]\n",
            "\n",
            "Solution vector X using inverse method:\n",
            "[ 2.  1. -2.]\n"
          ]
        }
      ]
    },
    {
      "cell_type": "markdown",
      "source": [
        "- Now: solve the above equation using np.linalg.inv function. {Explore more about ”linalg” func- tion of Numpy}"
      ],
      "metadata": {
        "id": "TNCWBSK988ka"
      }
    },
    {
      "cell_type": "code",
      "source": [
        "A = np.array([[2, -3, 1],\n",
        "              [1, -1, 2],\n",
        "              [3, 1, -1]])\n",
        "B = np.array([-1, -3, 9])\n",
        "\n",
        "inv_A = np.linalg.inv(A)\n",
        "X = np.dot(inv_A, B)\n",
        "print(\"Solution vector X using np.linalg.inv function:\")\n",
        "print(X)"
      ],
      "metadata": {
        "id": "v5E2UXdY88MX",
        "colab": {
          "base_uri": "https://localhost:8080/"
        },
        "outputId": "43741336-21a2-49ae-fa25-0798139c231f"
      },
      "execution_count": 73,
      "outputs": [
        {
          "output_type": "stream",
          "name": "stdout",
          "text": [
            "Solution vector X using np.linalg.inv function:\n",
            "[ 2.  1. -2.]\n"
          ]
        }
      ]
    },
    {
      "cell_type": "markdown",
      "source": [
        "### Experiment: How Fast is Numpy?\n",
        "\n",
        "1. Element-wise Addition:\n",
        "- Using Python Lists, perform element-wise addition of two lists of size 1, 000, 000. Measure and Print the time taken for this operation.\n",
        "- Using Numpy Arrays, Repeat the calculation and measure and print the time taken for this operation.\n"
      ],
      "metadata": {
        "id": "r7lyLIKJ03xm"
      }
    },
    {
      "cell_type": "code",
      "source": [
        "import time\n",
        "\n",
        "list1 = [i for i in range(1,1000001)]\n",
        "list2 = [i for i in range(1000001,2000001)]\n",
        "\n",
        "# measuring the time for element wise addition using Python lists\n",
        "start_time = time.time()\n",
        "result_time = [a+b for a,b in zip(list1, list2)]\n",
        "end_time = time.time()\n",
        "list_time = end_time - start_time\n",
        "print(f\"Time taken for element-wise addition using Python lists: {list_time} seconds\")\n",
        "\n",
        "# convert lists to numpy arrays\n",
        "array1 = np.array(list1)\n",
        "array2 = np.array(list2)\n",
        "\n",
        "# measuring time for element-wise addition using numpy arrays\n",
        "start_time = time.time()\n",
        "result_array = array1 + array2\n",
        "end_time = time.time()\n",
        "array_time = end_time - start_time\n",
        "print(f\"\\nTime taken for element-wise addition using Numpy arrays: {array_time} seconds\")"
      ],
      "metadata": {
        "colab": {
          "base_uri": "https://localhost:8080/"
        },
        "id": "h9KTwlCx2FSo",
        "outputId": "78e1dcdd-28e2-494e-9160-d1e438d5553b"
      },
      "execution_count": 81,
      "outputs": [
        {
          "output_type": "stream",
          "name": "stdout",
          "text": [
            "Time taken for element-wise addition using Python lists: 0.05190300941467285 seconds\n",
            "\n",
            "Time taken for element-wise addition using Numpy arrays: 0.0026030540466308594 seconds\n"
          ]
        }
      ]
    },
    {
      "cell_type": "markdown",
      "source": [
        "2. Element-wise Multiplication\n",
        "- Using Python Lists, perform element-wise multiplication of two lists of size 1,000,000. Measure and Print the time taken for this operation.\n",
        "- Using Numpy Arrays, Repeat the calculation and measure and print the time taken for this operation."
      ],
      "metadata": {
        "id": "y0gae3-g1jzP"
      }
    },
    {
      "cell_type": "code",
      "source": [
        "list1 = [i for i in range(1,1000001)]\n",
        "list2 = [i for i in range(1000001,2000001)]\n",
        "\n",
        "# measuring the time for element wise multiplication using Python lists\n",
        "start_time = time.time()\n",
        "result_time = [a*b for a,b in zip(list1, list2)]\n",
        "end_time = time.time()\n",
        "list_time = end_time - start_time\n",
        "print(f\"Time taken for element-wise multiplication using Python lists: {list_time} seconds\")\n",
        "\n",
        "# convert lists to numpy arrays\n",
        "array1 = np.array(list1)\n",
        "array2 = np.array(list2)\n",
        "\n",
        "# measuring time for element-wise multiplication using numpy arrays\n",
        "start_time = time.time()\n",
        "result_array = array1 * array2\n",
        "end_time = time.time()\n",
        "array_time = end_time - start_time\n",
        "print(f\"\\nTime taken for element-wise multiplication using Numpy arrays: {array_time} seconds\")"
      ],
      "metadata": {
        "colab": {
          "base_uri": "https://localhost:8080/"
        },
        "id": "DS9BNjKx2IX0",
        "outputId": "bc2d06c1-6f9e-425d-ebb7-56e7135439cb"
      },
      "execution_count": 82,
      "outputs": [
        {
          "output_type": "stream",
          "name": "stdout",
          "text": [
            "Time taken for element-wise multiplication using Python lists: 0.05964183807373047 seconds\n",
            "\n",
            "Time taken for element-wise multiplication using Numpy arrays: 0.0009369850158691406 seconds\n"
          ]
        }
      ]
    },
    {
      "cell_type": "markdown",
      "source": [
        "3. Dot Product\n",
        "- Using Python Lists, compute the dot product of two lists of size 1, 000, 000. Measure and Print the time taken for this operation.\n",
        "- Using Numpy Arrays, Repeat the calculation and measure and print the time taken for this operation."
      ],
      "metadata": {
        "id": "CqdPXEJW2OV6"
      }
    },
    {
      "cell_type": "code",
      "source": [
        "list1 = [i for i in range(1,1000001)]\n",
        "list2 = [i for i in range(1000001,2000001)]\n",
        "\n",
        "# measuring time for computing the dot product using Python lists\n",
        "start_time = time.time()\n",
        "result_time = [a*b for a,b in zip(list1, list2)]\n",
        "end_time = time.time()\n",
        "list_time = end_time - start_time\n",
        "print(f\"Time taken for computing the dot product using Python lists: {list_time} seconds\")\n",
        "\n",
        "# convert lists to numpy arrays\n",
        "array1 = np.array(list1)\n",
        "array2 = np.array(list2)\n",
        "\n",
        "# measuring time for computing the dot product using numpy arrays\n",
        "start_time = time.time()\n",
        "dot_product_array = np.dot(array1, array2)\n",
        "end_time = time.time()\n",
        "array_time = end_time - start_time\n",
        "print(f\"\\nTime taken for computing the dot product using Numpy arrays: {array_time} seconds\")"
      ],
      "metadata": {
        "colab": {
          "base_uri": "https://localhost:8080/"
        },
        "id": "N_E3pev12NzC",
        "outputId": "81875798-5ae7-45bd-c00e-dada0dc15446"
      },
      "execution_count": 89,
      "outputs": [
        {
          "output_type": "stream",
          "name": "stdout",
          "text": [
            "Time taken for computing the dot product using Python lists: 0.042901039123535156 seconds\n",
            "\n",
            "Time taken for computing the dot product using Numpy arrays: 0.0008254051208496094 seconds\n"
          ]
        }
      ]
    },
    {
      "cell_type": "markdown",
      "source": [
        "4. Matrix Multiplication\n",
        "- Using Python lists, perform matrix multiplication of two matrices of size 1000x1000. Mea- sure and print the time taken for this operation.\n",
        "- Using NumPy arrays, perform matrix multiplication of two matrices of size 1000x1000. Measure and print the time taken for this operation."
      ],
      "metadata": {
        "id": "dYS5Wdao3OIQ"
      }
    },
    {
      "cell_type": "code",
      "source": [
        "# size of matrix\n",
        "N=1000\n",
        "\n",
        "# initialize two matrices\n",
        "matrix1 = [[i + j for j in range(N)] for i in range(N)]\n",
        "matrix2 = [[i - j for j in range(N)] for i in range(N)]\n",
        "\n",
        "# function to perform matrix multiplication of two matrices\n",
        "def matrix_multiply(A,B):\n",
        "  result = [[0] *N for _ in range(N)]\n",
        "  for i in range(N):\n",
        "    for j in range(N):\n",
        "      for k in range(N):\n",
        "        result[i][j] += A[i][k] * B[k][j]\n",
        "  return result\n",
        "\n",
        "# measuring time for matrix multiplication using Python lists\n",
        "start_time = time.time()\n",
        "result = matrix_multiply(matrix1, matrix2)\n",
        "end_time = time.time()\n",
        "execute_time = end_time - start_time\n",
        "print(f\"Time taken for matrix multiplication using Python lists: {execute_time} seconds\")\n",
        "\n",
        "# convert lists to numpy arrays\n",
        "array1 = np.array(matrix1)\n",
        "array2 = np.array(matrix2)\n",
        "\n",
        "# measuring time for matrix multiplication using numpy arrays\n",
        "start_time = time.time()\n",
        "result_numpy = np.dot(array1, array2)\n",
        "end_time = time.time()\n",
        "numpy_time = end_time - start_time\n",
        "print(f\"\\nTime taken for matrix multiplication using Numpy arrays: {numpy_time:.6f} seconds\")"
      ],
      "metadata": {
        "colab": {
          "base_uri": "https://localhost:8080/"
        },
        "id": "KaShbljh3NqK",
        "outputId": "a1427df8-c003-4b11-f2f4-efbd356d1e51"
      },
      "execution_count": 86,
      "outputs": [
        {
          "output_type": "stream",
          "name": "stdout",
          "text": [
            "Time taken for matrix multiplication using Python lists: 164.1737298965454 seconds\n",
            "\n",
            "Time taken for matrix multiplication using Numpy arrays: 0.814291 seconds\n"
          ]
        }
      ]
    }
  ]
}